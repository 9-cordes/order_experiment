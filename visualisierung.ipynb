{
  "nbformat": 4,
  "nbformat_minor": 0,
  "metadata": {
    "colab": {
      "name": "image_quality_hw2.ipynb",
      "provenance": [],
      "collapsed_sections": []
    },
    "kernelspec": {
      "name": "python3",
      "display_name": "Python 3"
    },
    "language_info": {
      "name": "python"
    }
  },
  "cells": [
    {
      "cell_type": "code",
      "execution_count": null,
      "metadata": {
        "id": "pXbhkQkTqHsK",
        "colab": {
          "base_uri": "https://localhost:8080/"
        },
        "outputId": "d3a95bbd-a069-44b8-8ca2-ab1cd51326cb"
      },
      "outputs": [
        {
          "output_type": "stream",
          "name": "stdout",
          "text": [
            "Drive already mounted at /content/drive; to attempt to forcibly remount, call drive.mount(\"/content/drive\", force_remount=True).\n"
          ]
        }
      ],
      "source": [
        "import pandas as pd   # module to work with data in DataFrames.\n",
        "import seaborn as sns  # module to plot DataFrames in an easy way\n",
        "import matplotlib.pyplot as plt\n",
        "import numpy as np\n",
        "import os\n",
        "sns.set_context('poster') # other optionss are: 'poster', 'notebook'\n",
        "# from google.colab import drive \n",
        "# drive.mount('/content/drive')"
      ]
    },
    {
      "cell_type": "code",
      "source": [
        "input_dir = \"./sample_data\"\n",
        "file1 = os.path.join(input_dir, \"data.csv\") \n",
        "file2 =  os.path.join(input_dir,  \"dataset/data-infos.csv\") \n",
        "\n",
        "# read orignal data\n",
        "odf = pd.read_csv(file1, encoding = \"ISO-8859-1\")\n",
        "\n",
        "# read info data\n",
        "idf = pd.read_csv(file2, encoding = \"ISO-8859-1\", sep = ';')\n",
        "\n"
      ],
      "metadata": {
        "id": "OJL1PhTB3FBw"
      },
      "execution_count": null,
      "outputs": []
    },
    {
      "cell_type": "code",
      "source": [
        "# explore orignal data\n",
        "odf"
      ],
      "metadata": {
        "id": "UJ0TEp3uJHFg"
      },
      "execution_count": null,
      "outputs": []
    },
    {
      "cell_type": "code",
      "source": [
        "# explore info data\n",
        "idf"
      ],
      "metadata": {
        "colab": {
          "base_uri": "https://localhost:8080/",
          "height": 424
        },
        "id": "nyN4IQJeJPj8",
        "outputId": "7bcd35af-662b-40df-913e-3a99852d8f26"
      },
      "execution_count": null,
      "outputs": [
        {
          "output_type": "execute_result",
          "data": {
            "text/plain": [
              "    ï»¿Picture Series  Picture   Price Gallery  Category  \\\n",
              "0                   0        0     0,2     KPR         1   \n",
              "1                   0        1    0,17     KPR         1   \n",
              "2                   0        2  0,1499     KPR         1   \n",
              "3                   0        3   0,129     KPR         1   \n",
              "4                   0        4    0,12     KPR         1   \n",
              "..                ...      ...     ...     ...       ...   \n",
              "95                 19        0    0,88     WMN         2   \n",
              "96                 19        1    0,88     WMN         2   \n",
              "97                 19        2    0,88     WMN         2   \n",
              "98                 19        3    0,88     WMN         2   \n",
              "99                 19        4    0,88     WMN         2   \n",
              "\n",
              "                                                 Link  \n",
              "0   https://opensea.io/assets/ethereum/0xcb1021080...  \n",
              "1   https://opensea.io/assets/ethereum/0xcb1021080...  \n",
              "2   https://opensea.io/assets/ethereum/0xcb1021080...  \n",
              "3   https://opensea.io/assets/ethereum/0xcb1021080...  \n",
              "4   https://opensea.io/assets/ethereum/0xcb1021080...  \n",
              "..                                                ...  \n",
              "95  https://opensea.io/assets/ethereum/0xbee7cb80d...  \n",
              "96  https://opensea.io/assets/ethereum/0xbee7cb80d...  \n",
              "97  https://opensea.io/assets/ethereum/0xbee7cb80d...  \n",
              "98  https://opensea.io/assets/ethereum/0xbee7cb80d...  \n",
              "99  https://opensea.io/assets/ethereum/0xbee7cb80d...  \n",
              "\n",
              "[100 rows x 6 columns]"
            ],
            "text/html": [
              "\n",
              "  <div id=\"df-c3d265b4-6705-421d-844f-7bced098ba8e\">\n",
              "    <div class=\"colab-df-container\">\n",
              "      <div>\n",
              "<style scoped>\n",
              "    .dataframe tbody tr th:only-of-type {\n",
              "        vertical-align: middle;\n",
              "    }\n",
              "\n",
              "    .dataframe tbody tr th {\n",
              "        vertical-align: top;\n",
              "    }\n",
              "\n",
              "    .dataframe thead th {\n",
              "        text-align: right;\n",
              "    }\n",
              "</style>\n",
              "<table border=\"1\" class=\"dataframe\">\n",
              "  <thead>\n",
              "    <tr style=\"text-align: right;\">\n",
              "      <th></th>\n",
              "      <th>ï»¿Picture Series</th>\n",
              "      <th>Picture</th>\n",
              "      <th>Price</th>\n",
              "      <th>Gallery</th>\n",
              "      <th>Category</th>\n",
              "      <th>Link</th>\n",
              "    </tr>\n",
              "  </thead>\n",
              "  <tbody>\n",
              "    <tr>\n",
              "      <th>0</th>\n",
              "      <td>0</td>\n",
              "      <td>0</td>\n",
              "      <td>0,2</td>\n",
              "      <td>KPR</td>\n",
              "      <td>1</td>\n",
              "      <td>https://opensea.io/assets/ethereum/0xcb1021080...</td>\n",
              "    </tr>\n",
              "    <tr>\n",
              "      <th>1</th>\n",
              "      <td>0</td>\n",
              "      <td>1</td>\n",
              "      <td>0,17</td>\n",
              "      <td>KPR</td>\n",
              "      <td>1</td>\n",
              "      <td>https://opensea.io/assets/ethereum/0xcb1021080...</td>\n",
              "    </tr>\n",
              "    <tr>\n",
              "      <th>2</th>\n",
              "      <td>0</td>\n",
              "      <td>2</td>\n",
              "      <td>0,1499</td>\n",
              "      <td>KPR</td>\n",
              "      <td>1</td>\n",
              "      <td>https://opensea.io/assets/ethereum/0xcb1021080...</td>\n",
              "    </tr>\n",
              "    <tr>\n",
              "      <th>3</th>\n",
              "      <td>0</td>\n",
              "      <td>3</td>\n",
              "      <td>0,129</td>\n",
              "      <td>KPR</td>\n",
              "      <td>1</td>\n",
              "      <td>https://opensea.io/assets/ethereum/0xcb1021080...</td>\n",
              "    </tr>\n",
              "    <tr>\n",
              "      <th>4</th>\n",
              "      <td>0</td>\n",
              "      <td>4</td>\n",
              "      <td>0,12</td>\n",
              "      <td>KPR</td>\n",
              "      <td>1</td>\n",
              "      <td>https://opensea.io/assets/ethereum/0xcb1021080...</td>\n",
              "    </tr>\n",
              "    <tr>\n",
              "      <th>...</th>\n",
              "      <td>...</td>\n",
              "      <td>...</td>\n",
              "      <td>...</td>\n",
              "      <td>...</td>\n",
              "      <td>...</td>\n",
              "      <td>...</td>\n",
              "    </tr>\n",
              "    <tr>\n",
              "      <th>95</th>\n",
              "      <td>19</td>\n",
              "      <td>0</td>\n",
              "      <td>0,88</td>\n",
              "      <td>WMN</td>\n",
              "      <td>2</td>\n",
              "      <td>https://opensea.io/assets/ethereum/0xbee7cb80d...</td>\n",
              "    </tr>\n",
              "    <tr>\n",
              "      <th>96</th>\n",
              "      <td>19</td>\n",
              "      <td>1</td>\n",
              "      <td>0,88</td>\n",
              "      <td>WMN</td>\n",
              "      <td>2</td>\n",
              "      <td>https://opensea.io/assets/ethereum/0xbee7cb80d...</td>\n",
              "    </tr>\n",
              "    <tr>\n",
              "      <th>97</th>\n",
              "      <td>19</td>\n",
              "      <td>2</td>\n",
              "      <td>0,88</td>\n",
              "      <td>WMN</td>\n",
              "      <td>2</td>\n",
              "      <td>https://opensea.io/assets/ethereum/0xbee7cb80d...</td>\n",
              "    </tr>\n",
              "    <tr>\n",
              "      <th>98</th>\n",
              "      <td>19</td>\n",
              "      <td>3</td>\n",
              "      <td>0,88</td>\n",
              "      <td>WMN</td>\n",
              "      <td>2</td>\n",
              "      <td>https://opensea.io/assets/ethereum/0xbee7cb80d...</td>\n",
              "    </tr>\n",
              "    <tr>\n",
              "      <th>99</th>\n",
              "      <td>19</td>\n",
              "      <td>4</td>\n",
              "      <td>0,88</td>\n",
              "      <td>WMN</td>\n",
              "      <td>2</td>\n",
              "      <td>https://opensea.io/assets/ethereum/0xbee7cb80d...</td>\n",
              "    </tr>\n",
              "  </tbody>\n",
              "</table>\n",
              "<p>100 rows × 6 columns</p>\n",
              "</div>\n",
              "      <button class=\"colab-df-convert\" onclick=\"convertToInteractive('df-c3d265b4-6705-421d-844f-7bced098ba8e')\"\n",
              "              title=\"Convert this dataframe to an interactive table.\"\n",
              "              style=\"display:none;\">\n",
              "        \n",
              "  <svg xmlns=\"http://www.w3.org/2000/svg\" height=\"24px\"viewBox=\"0 0 24 24\"\n",
              "       width=\"24px\">\n",
              "    <path d=\"M0 0h24v24H0V0z\" fill=\"none\"/>\n",
              "    <path d=\"M18.56 5.44l.94 2.06.94-2.06 2.06-.94-2.06-.94-.94-2.06-.94 2.06-2.06.94zm-11 1L8.5 8.5l.94-2.06 2.06-.94-2.06-.94L8.5 2.5l-.94 2.06-2.06.94zm10 10l.94 2.06.94-2.06 2.06-.94-2.06-.94-.94-2.06-.94 2.06-2.06.94z\"/><path d=\"M17.41 7.96l-1.37-1.37c-.4-.4-.92-.59-1.43-.59-.52 0-1.04.2-1.43.59L10.3 9.45l-7.72 7.72c-.78.78-.78 2.05 0 2.83L4 21.41c.39.39.9.59 1.41.59.51 0 1.02-.2 1.41-.59l7.78-7.78 2.81-2.81c.8-.78.8-2.07 0-2.86zM5.41 20L4 18.59l7.72-7.72 1.47 1.35L5.41 20z\"/>\n",
              "  </svg>\n",
              "      </button>\n",
              "      \n",
              "  <style>\n",
              "    .colab-df-container {\n",
              "      display:flex;\n",
              "      flex-wrap:wrap;\n",
              "      gap: 12px;\n",
              "    }\n",
              "\n",
              "    .colab-df-convert {\n",
              "      background-color: #E8F0FE;\n",
              "      border: none;\n",
              "      border-radius: 50%;\n",
              "      cursor: pointer;\n",
              "      display: none;\n",
              "      fill: #1967D2;\n",
              "      height: 32px;\n",
              "      padding: 0 0 0 0;\n",
              "      width: 32px;\n",
              "    }\n",
              "\n",
              "    .colab-df-convert:hover {\n",
              "      background-color: #E2EBFA;\n",
              "      box-shadow: 0px 1px 2px rgba(60, 64, 67, 0.3), 0px 1px 3px 1px rgba(60, 64, 67, 0.15);\n",
              "      fill: #174EA6;\n",
              "    }\n",
              "\n",
              "    [theme=dark] .colab-df-convert {\n",
              "      background-color: #3B4455;\n",
              "      fill: #D2E3FC;\n",
              "    }\n",
              "\n",
              "    [theme=dark] .colab-df-convert:hover {\n",
              "      background-color: #434B5C;\n",
              "      box-shadow: 0px 1px 3px 1px rgba(0, 0, 0, 0.15);\n",
              "      filter: drop-shadow(0px 1px 2px rgba(0, 0, 0, 0.3));\n",
              "      fill: #FFFFFF;\n",
              "    }\n",
              "  </style>\n",
              "\n",
              "      <script>\n",
              "        const buttonEl =\n",
              "          document.querySelector('#df-c3d265b4-6705-421d-844f-7bced098ba8e button.colab-df-convert');\n",
              "        buttonEl.style.display =\n",
              "          google.colab.kernel.accessAllowed ? 'block' : 'none';\n",
              "\n",
              "        async function convertToInteractive(key) {\n",
              "          const element = document.querySelector('#df-c3d265b4-6705-421d-844f-7bced098ba8e');\n",
              "          const dataTable =\n",
              "            await google.colab.kernel.invokeFunction('convertToInteractive',\n",
              "                                                     [key], {});\n",
              "          if (!dataTable) return;\n",
              "\n",
              "          const docLinkHtml = 'Like what you see? Visit the ' +\n",
              "            '<a target=\"_blank\" href=https://colab.research.google.com/notebooks/data_table.ipynb>data table notebook</a>'\n",
              "            + ' to learn more about interactive tables.';\n",
              "          element.innerHTML = '';\n",
              "          dataTable['output_type'] = 'display_data';\n",
              "          await google.colab.output.renderOutput(dataTable, element);\n",
              "          const docLink = document.createElement('div');\n",
              "          docLink.innerHTML = docLinkHtml;\n",
              "          element.appendChild(docLink);\n",
              "        }\n",
              "      </script>\n",
              "    </div>\n",
              "  </div>\n",
              "  "
            ]
          },
          "metadata": {},
          "execution_count": 24
        }
      ]
    },
    {
      "cell_type": "code",
      "source": [
        "def get_rankings(df, columns, grp):\n",
        "    rank_list = []\n",
        "\n",
        "\n",
        "    # collect data\n",
        "    for c in columns:\n",
        "        rank_list.append(df[c].values[1:])\n",
        "    rank_list = (np.vstack(rank_list)).T\n",
        "    rank_list = rank_list.astype(float)\n",
        "    # print(rank_list)\n",
        "\n",
        "    # clean data, remove rows containing NaN\n",
        "    nan_mask = np.isnan(rank_list).any(axis=1)\n",
        "    rank_list = rank_list[~nan_mask]\n",
        "    # print(rank_list)\n",
        "\n",
        "    ranking_sum = np.sum(rank_list, axis=0)\n",
        "    ranking_average = np.average(rank_list, axis=0)\n",
        "    ranking_std = np.std(rank_list, axis=0)\n",
        "\n",
        "    return {\"ranking_sum\": ranking_sum,\n",
        "            \"ranking_average\":ranking_average,\n",
        "            \"ranking_std\":ranking_std}"
      ],
      "metadata": {
        "id": "VmmZ4_gvKa38"
      },
      "execution_count": null,
      "outputs": []
    },
    {
      "cell_type": "code",
      "source": [
        "# df = pd.read_csv(file2, encoding=\"latin-1\")\n",
        "\n",
        "num_images_per_group = 5\n",
        "num_of_groups = 20\n",
        "ranking_sums = []\n",
        "ranking_avgs = []\n",
        "\n",
        "\n",
        "for grp in range(num_of_groups):\n",
        "    if grp+1 <10:\n",
        "        columns = [f\"B00{grp+1}_0{i+1}\" for i in range(num_images_per_group)]\n",
        "    else:\n",
        "        columns = [f\"B0{grp+1}_0{i+1}\" for i in range(num_images_per_group)]\n",
        "\n",
        "    ranking_res = get_rankings(odf, columns, grp+1)\n",
        "    ranking_sums.append(ranking_res['ranking_sum'])\n",
        "    ranking_avgs.append(ranking_res['ranking_average'])\n",
        "# print(ranking_sums)\n",
        "ranking_sums = np.hstack(np.array(ranking_sums))\n",
        "ranking_avgs = np.hstack(np.array(ranking_avgs))\n",
        "# print(ranking_sums)"
      ],
      "metadata": {
        "id": "H7f6QkJjrYok"
      },
      "execution_count": null,
      "outputs": []
    },
    {
      "cell_type": "code",
      "source": [
        "price_in_str = idf['Price'].values\n",
        "prices = [float(p.replace(',', '.')) for p in price_in_str]\n",
        "print(prices)"
      ],
      "metadata": {
        "id": "KeOjA1_360LU",
        "colab": {
          "base_uri": "https://localhost:8080/"
        },
        "outputId": "7ef2c4e1-b306-4ebf-af1c-8ffb0e27211e"
      },
      "execution_count": null,
      "outputs": [
        {
          "output_type": "stream",
          "name": "stdout",
          "text": [
            "[0.2, 0.17, 0.1499, 0.129, 0.12, 3.1, 1.99, 1.111, 0.9, 0.75, 1.0, 0.5, 0.38, 0.2, 0.78, 75.0, 55.0, 45.0, 28.75, 15.0, 1.2, 1.0, 0.75, 0.5, 0.4207, 2.0, 1.2, 0.99, 0.69, 0.25, 1.0, 0.8, 0.68, 0.5, 0.349, 2.5, 2.2, 1.65, 1.25, 0.98, 130.0, 100.0, 69.0, 49.0, 30.0, 100.0, 85.69, 55.0, 40.666, 4.5, 1.38, 0.5, 0.39, 0.32, 0.3, 0.37, 0.295, 0.25, 0.15, 0.12, 0.48, 0.419, 0.339, 0.25, 0.2, 0.05, 0.04, 0.32, 0.028, 0.026, 70.0, 60.0, 47.0, 40.0, 29.37, 0.1, 0.1, 0.1, 0.9, 0.9, 0.25, 0.25, 0.25, 0.25, 0.25, 0.21, 0.21, 0.21, 0.2, 0.2, 0.25, 0.25, 0.25, 0.25, 0.25, 0.88, 0.88, 0.88, 0.88, 0.88]\n"
          ]
        }
      ]
    },
    {
      "cell_type": "code",
      "source": [
        "data = {}\n",
        "for key, val in zip(prices, ranking_sums): \n",
        "    data[key] = data.get(key, 0) + val \n",
        "\n",
        "grouped_prices_sum = data.keys()\n",
        "grouped_rankings = data.values()\n",
        "\n",
        "\n",
        "g = sns.scatterplot(x=grouped_prices_sum, y=grouped_rankings)\n",
        "g.set(xlim=(0, 2.0))\n",
        "g.set(ylim=(10, 200))\n",
        "g.set(xlabel='Prices [0,2]', ylabel='Ranking (Sum) [10, 200]')\n"
      ],
      "metadata": {
        "id": "tmi7117m60eY",
        "colab": {
          "base_uri": "https://localhost:8080/",
          "height": 368
        },
        "outputId": "0fd71850-ab98-42df-fe08-40c5cd4b16f3"
      },
      "execution_count": null,
      "outputs": [
        {
          "output_type": "execute_result",
          "data": {
            "text/plain": [
              "[Text(0, 0.5, 'Ranking (Sum) [10, 200]'), Text(0.5, 0, 'Prices [0,2]')]"
            ]
          },
          "metadata": {},
          "execution_count": 81
        },
        {
          "output_type": "display_data",
          "data": {
            "text/plain": [
              "<Figure size 432x288 with 1 Axes>"
            ],
            "image/png": "[encoded data removed]"
          },
          "metadata": {
            "needs_background": "light"
          }
        }
      ]
    },
    {
      "cell_type": "code",
      "source": [
        "g = sns.scatterplot(x=grouped_prices_sum, y=grouped_rankings)\n",
        "g.set(xlim=(2.0, 150))\n",
        "g.set(ylim=(10, 200))\n",
        "g.set(xlabel='Prices [2,150]', ylabel='Ranking (Sum) [10, 200]')"
      ],
      "metadata": {
        "id": "3_3LSUpc60ud",
        "colab": {
          "base_uri": "https://localhost:8080/",
          "height": 368
        },
        "outputId": "e9594e2e-4b02-4a9c-ce44-e9a7f2adc481"
      },
      "execution_count": null,
      "outputs": [
        {
          "output_type": "execute_result",
          "data": {
            "text/plain": [
              "[Text(0, 0.5, 'Ranking (Sum) [10, 200]'), Text(0.5, 0, 'Prices [2,150]')]"
            ]
          },
          "metadata": {},
          "execution_count": 82
        },
        {
          "output_type": "display_data",
          "data": {
            "text/plain": [
              "<Figure size 432x288 with 1 Axes>"
            ],
            "image/png": "[encoded data removed]"
          },
          "metadata": {
            "needs_background": "light"
          }
        }
      ]
    },
    {
      "cell_type": "code",
      "source": [
        "data = {}\n",
        "for key, val in zip(prices, ranking_avgs): \n",
        "    data[key] = data.get(key, 0) + val \n",
        "\n",
        "grouped_prices_sum = data.keys()\n",
        "grouped_rankings = data.values()\n",
        "\n",
        "\n",
        "g = sns.scatterplot(x=grouped_prices_sum, y=grouped_rankings)\n",
        "g.set(xlim=(0, 2.0))\n",
        "g.set(ylim=(0,20))\n",
        "g.set(xlabel='Prices [0,2]', ylabel='Ranking (AVG) [0,20]')\n"
      ],
      "metadata": {
        "id": "cm9tPSJK607B",
        "colab": {
          "base_uri": "https://localhost:8080/",
          "height": 347
        },
        "outputId": "7ebeaf61-b6b8-44e8-fefb-0a9485bd08de"
      },
      "execution_count": null,
      "outputs": [
        {
          "output_type": "execute_result",
          "data": {
            "text/plain": [
              "[Text(0, 0.5, 'Ranking (AVG) [0,20]'), Text(0.5, 0, 'Prices [0,2]')]"
            ]
          },
          "metadata": {},
          "execution_count": 89
        },
        {
          "output_type": "display_data",
          "data": {
            "text/plain": [
              "<Figure size 432x288 with 1 Axes>"
            ],
            "image/png": "[encoded data removed]"
          },
          "metadata": {
            "needs_background": "light"
          }
        }
      ]
    },
    {
      "cell_type": "code",
      "source": [
        "data = {}\n",
        "for key, val in zip(prices, ranking_avgs): \n",
        "    data[key] = data.get(key, 0) + val \n",
        "\n",
        "grouped_prices_sum = data.keys()\n",
        "grouped_rankings = data.values()\n",
        "\n",
        "\n",
        "g = sns.scatterplot(x=grouped_prices_sum, y=grouped_rankings)\n",
        "g.set(xlim=(2.0, 150))\n",
        "g.set(ylim=(0,20))\n",
        "g.set(xlabel='Prices [0,2]', ylabel='Ranking (AVG) [0, 20]')\n"
      ],
      "metadata": {
        "colab": {
          "base_uri": "https://localhost:8080/",
          "height": 350
        },
        "id": "Uoo9Rz4aQQkL",
        "outputId": "e80adadb-5ae0-406b-e014-a295ef966723"
      },
      "execution_count": null,
      "outputs": [
        {
          "output_type": "execute_result",
          "data": {
            "text/plain": [
              "[Text(0, 0.5, 'Ranking (AVG) [0, 20]'), Text(0.5, 0, 'Prices [0,2]')]"
            ]
          },
          "metadata": {},
          "execution_count": 88
        },
        {
          "output_type": "display_data",
          "data": {
            "text/plain": [
              "<Figure size 432x288 with 1 Axes>"
            ],
            "image/png": "[encoded data removed]"
          },
          "metadata": {
            "needs_background": "light"
          }
        }
      ]
    }
  ]
}
